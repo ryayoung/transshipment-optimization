{
 "cells": [
  {
   "cell_type": "markdown",
   "metadata": {},
   "source": [
    "[<img src=\"https://github.com/ryayoung/icons/blob/main/svg/arrow.left.blue.svg\" height=\"30\"/>](https://github.com/ryayoung/transshipment-optimization)\n",
    "\n",
    "# **Ski Boot Manufacturing**\n",
    "## *Multi-stage Transshipment*\n",
    "\n",
    "> Original problem created by [Ryan Elmore](https://github.com/rtelmore), and modified by [Ryan Young](https://github.com/ryayoung) in winter of 2022.\n",
    "\n",
    "**Problem:**\n",
    "\n",
    "- We're given cost and production data for a ski boot manufacturer. There are three manufacturing plants, two distribution centers, and five warehouses.\n",
    "- We must ship the boots to the warehouses at a minimum cost satisfying the given constraints. Each plant can only produce so much product, the amount of boots passing through the distribution centers has to remain constant (inflow equals outflow), and each warehouse has a minimum quantity needed to satisfy demand.\n",
    "\n",
    "<img width=\"380\" alt=\"diagram\" src=\"diagram.png\">\n",
    "\n",
    "**Research Questions:**\n",
    "\n",
    "1. Determine how many units of product should be sent through *each* location in each stage of the transshipment flow (P -> D, and D -> W) to *minimize cost*, while satisfying all constraints for supply, capacity, and warehouse demand.\n",
    "2. Find the total cost of the process.\n",
    "3. Check for slack in the system.\n",
    "4. Visualize the decision variables with bar charts. Plot stage 1 (P -> D) and stage 2 (D -> W) in separate charts.\n",
    "5. Visualize how overall total cost changes as a function of cost at a single *edge* in the network. Test the P3 -> D1 edge on a sequence of costs from 0.5 to 0.7 in one cent increments, re-running the model for each.\n",
    "    1. Plot overall shipping costs as a function of the change of this value.\n",
    "    2. Make two additional plots: (1.) Units shipped between P3 and the two distribution centers, and (2.) Units shipped between each distribution center and the 5 warehouses.\n",
    "6. Visualize how overall total cost changes as a function of demand (minimum units required) at a warehouse node. Test the W3 demand constraint on a sequence from 4700 to 7300 units, incrementing by 100, and re-run the model for each. Plot the change of total cost over the increase in W3 demand.\n",
    "\n",
    "---\n"
   ]
  },
  {
   "cell_type": "code",
   "execution_count": 1,
   "metadata": {},
   "outputs": [],
   "source": [
    "import pandas as pd \n",
    "import pyomo.environ as pe\n",
    "import matplotlib.pyplot as plt\n",
    "import seaborn as sns"
   ]
  }
 ],
 "metadata": {
  "kernelspec": {
   "display_name": "Python 3.9.13 64-bit",
   "language": "python",
   "name": "python3"
  },
  "language_info": {
   "codemirror_mode": {
    "name": "ipython",
    "version": 3
   },
   "file_extension": ".py",
   "mimetype": "text/x-python",
   "name": "python",
   "nbconvert_exporter": "python",
   "pygments_lexer": "ipython3",
   "version": "3.9.13"
  },
  "orig_nbformat": 4,
  "vscode": {
   "interpreter": {
    "hash": "b0fa6594d8f4cbf19f97940f81e996739fb7646882a419484c72d19e05852a7e"
   }
  }
 },
 "nbformat": 4,
 "nbformat_minor": 2
}
